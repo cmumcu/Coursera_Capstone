{
 "cells": [
  {
   "cell_type": "markdown",
   "metadata": {},
   "source": [
    "# Battle of Neighborhoods - Where to live in Toronto?"
   ]
  },
  {
   "cell_type": "markdown",
   "metadata": {},
   "source": [
    "1. A description of the problem and a discussion of the background. \n",
    "\n",
    "A wealthy family is looking to move from Brooklyn, NY to Toronto. Our firm is chosen to assist the family in identifying the best fitting Toronto borough and its neighborhoods for their lifestyle and needs. In recent years, Brooklyn has become the coolest borough of New York City with its vibrant mix of music festivals, big art and foodie scene, and trendy bars. \n",
    "Our firm will examine the boroughs of Toronto and their neighborhoods based on the existence of music and art venues, and restaurants and bars, and present most suitable neighborhoods to the client. "
   ]
  },
  {
   "cell_type": "markdown",
   "metadata": {},
   "source": [
    "2. A description of the data and how it will be used to solve the problem.\n",
    "\n",
    "In order to assist our client in the process, we will utilize the following data sets and Foursquare API. \n",
    "- New York City Neighborhood Names data set from the NYU Spatial Data Repository (https://geo.nyu.edu/catalog/nyu_2451_34572)\n",
    "- List of postal codes of Canada: M content from Wikipedia showing postal codes of Toronto (https://en.wikipedia.org/wiki/List_of_postal_codes_of_Canada:_M) \n",
    "\n",
    "With the NYC dataset, boroughs of NYC will be segmented, and Brooklyn will be further examined via Foursquare API to generate more information regarding the venues available in the area. Once more concrete information on Brooklyn is generated, by utilizing the Toronto dataset, boroughs will be segmented and neighborhoods will be examined to determine areas that resemble Brooklyn the most. Top 2 most suitable neighborhoods will be recommended to the client as most suitable locations to relocate.  \n"
   ]
  },
  {
   "cell_type": "code",
   "execution_count": null,
   "metadata": {},
   "outputs": [],
   "source": []
  }
 ],
 "metadata": {
  "kernelspec": {
   "display_name": "Python 3",
   "language": "python",
   "name": "python3"
  },
  "language_info": {
   "codemirror_mode": {
    "name": "ipython",
    "version": 3
   },
   "file_extension": ".py",
   "mimetype": "text/x-python",
   "name": "python",
   "nbconvert_exporter": "python",
   "pygments_lexer": "ipython3",
   "version": "3.8.5"
  }
 },
 "nbformat": 4,
 "nbformat_minor": 4
}
